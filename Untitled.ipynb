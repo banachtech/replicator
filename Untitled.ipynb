{
 "cells": [
  {
   "cell_type": "code",
   "execution_count": 23,
   "id": "c909cb09",
   "metadata": {},
   "outputs": [],
   "source": [
    "using Flux, BSON, Random"
   ]
  },
  {
   "cell_type": "code",
   "execution_count": 5,
   "id": "0e042d1a",
   "metadata": {},
   "outputs": [
    {
     "name": "stdout",
     "output_type": "stream",
     "text": [
      "\u001b[32m\u001b[1mStatus\u001b[22m\u001b[39m `~/.julia/environments/v1.8/Project.toml`\n",
      "\u001b[32m⌃\u001b[39m\u001b[90m [587475ba] \u001b[39mFlux v0.13.13\n",
      "\u001b[36m\u001b[1mInfo\u001b[22m\u001b[39m Packages marked with \u001b[32m⌃\u001b[39m have new versions available and may be upgradable.\n"
     ]
    }
   ],
   "source": [
    "import Pkg\n",
    "Pkg.status(\"Flux\")"
   ]
  },
  {
   "cell_type": "code",
   "execution_count": 14,
   "id": "33c76435",
   "metadata": {},
   "outputs": [
    {
     "data": {
      "text/plain": [
       "conv_block (generic function with 1 method)"
      ]
     },
     "execution_count": 14,
     "metadata": {},
     "output_type": "execute_result"
    }
   ],
   "source": [
    "function conv_block(cin,cout,k,p)\n",
    "    l = []\n",
    "    push!(l, Conv((k,k), cin => cout, relu, pad=SamePad()))\n",
    "    push!(l, BatchNorm(cout))\n",
    "    push!(l, Dropout(p))\n",
    "    push!(l, MaxPool((k,k)))\n",
    "    return l\n",
    "end"
   ]
  },
  {
   "cell_type": "code",
   "execution_count": 19,
   "id": "f0868100",
   "metadata": {},
   "outputs": [
    {
     "data": {
      "text/plain": [
       "make_model (generic function with 1 method)"
      ]
     },
     "execution_count": 19,
     "metadata": {},
     "output_type": "execute_result"
    }
   ],
   "source": [
    "function make_model(w,h;k=2,c=[2,4],p=0.5)\n",
    "    layers = []\n",
    "    push!(layers, conv_block(1,c[1],k,p)...)\n",
    "    push!(layers, conv_block(c[1],c[2],k,p)...)\n",
    "    conv_size = Flux.outputsize(layers, (w, h, 1); padbatch=true)\n",
    "    linear = Dense(prod(conv_size), h, relu)\n",
    "    return Chain(layers..., Flux.flatten, linear, softmax)\n",
    "end"
   ]
  },
  {
   "cell_type": "code",
   "execution_count": 20,
   "id": "8ecc5872",
   "metadata": {},
   "outputs": [
    {
     "data": {
      "text/plain": [
       "Chain(\n",
       "  Conv((2, 2), 1 => 2, relu, pad=(1, 0, 1, 0)),  \u001b[90m# 10 parameters\u001b[39m\n",
       "  BatchNorm(2),                         \u001b[90m# 4 parameters\u001b[39m\u001b[90m, plus 4\u001b[39m\n",
       "  Dropout(0.5),\n",
       "  MaxPool((2, 2)),\n",
       "  Conv((2, 2), 2 => 4, relu, pad=(1, 0, 1, 0)),  \u001b[90m# 36 parameters\u001b[39m\n",
       "  BatchNorm(4),                         \u001b[90m# 8 parameters\u001b[39m\u001b[90m, plus 8\u001b[39m\n",
       "  Dropout(0.5),\n",
       "  MaxPool((2, 2)),\n",
       "  MLUtils.flatten,\n",
       "  Dense(336 => 30, relu),               \u001b[90m# 10_110 parameters\u001b[39m\n",
       "  NNlib.softmax,\n",
       ") \u001b[90m        # Total: 10 trainable arrays, \u001b[39m10_168 parameters,\n",
       "\u001b[90m          # plus 4 non-trainable, 12 parameters, summarysize \u001b[39m41.359 KiB."
      ]
     },
     "execution_count": 20,
     "metadata": {},
     "output_type": "execute_result"
    }
   ],
   "source": [
    "model = make_model(50,30)"
   ]
  },
  {
   "cell_type": "code",
   "execution_count": 21,
   "id": "b4f5107b",
   "metadata": {},
   "outputs": [],
   "source": [
    "BSON.@save \"model.bson\" model"
   ]
  },
  {
   "cell_type": "code",
   "execution_count": 24,
   "id": "cdb736a6",
   "metadata": {},
   "outputs": [
    {
     "ename": "LoadError",
     "evalue": "UndefVarError: MLUtils not defined",
     "output_type": "error",
     "traceback": [
      "UndefVarError: MLUtils not defined",
      "",
      "Stacktrace:",
      "  [1] (::BSON.var\"#31#32\")(m::Module, f::String)",
      "    @ BSON ~/.julia/packages/BSON/73cTU/src/extensions.jl:21",
      "  [2] BottomRF",
      "    @ ./reduce.jl:81 [inlined]",
      "  [3] _foldl_impl(op::Base.BottomRF{BSON.var\"#31#32\"}, init::Module, itr::Vector{Any})",
      "    @ Base ./reduce.jl:58",
      "  [4] foldl_impl",
      "    @ ./reduce.jl:48 [inlined]",
      "  [5] mapfoldl_impl",
      "    @ ./reduce.jl:44 [inlined]",
      "  [6] _mapreduce_dim",
      "    @ ./reducedim.jl:362 [inlined]",
      "  [7] #mapreduce#765",
      "    @ ./reducedim.jl:357 [inlined]",
      "  [8] #reduce#767",
      "    @ ./reducedim.jl:406 [inlined]",
      "  [9] resolve(fs::Vector{Any}, init::Module)",
      "    @ BSON ~/.julia/packages/BSON/73cTU/src/extensions.jl:21",
      " [10] (::BSON.var\"#35#36\")(d::Dict{Symbol, Any}, init::Module)",
      "    @ BSON ~/.julia/packages/BSON/73cTU/src/extensions.jl:64",
      " [11] _raise_recursive(d::Dict{Symbol, Any}, cache::IdDict{Any, Any}, init::Module)",
      "    @ BSON ~/.julia/packages/BSON/73cTU/src/read.jl:80",
      " [12] raise_recursive(d::Dict{Symbol, Any}, cache::IdDict{Any, Any}, init::Module)",
      "    @ BSON ~/.julia/packages/BSON/73cTU/src/read.jl:93",
      " [13] (::BSON.var\"#23#24\"{IdDict{Any, Any}, Module})(x::Dict{Symbol, Any})",
      "    @ BSON ~/.julia/packages/BSON/73cTU/src/read.jl:98",
      " [14] applychildren!(f::BSON.var\"#23#24\"{IdDict{Any, Any}, Module}, x::Vector{Any})",
      "    @ BSON ~/.julia/packages/BSON/73cTU/src/BSON.jl:26",
      " [15] raise_recursive",
      "    @ ~/.julia/packages/BSON/73cTU/src/read.jl:98 [inlined]",
      " [16] (::BSON.var\"#17#20\"{IdDict{Any, Any}, Module})(x::Vector{Any})",
      "    @ BSON ~/.julia/packages/BSON/73cTU/src/read.jl:80",
      " [17] applychildren!(f::BSON.var\"#17#20\"{IdDict{Any, Any}, Module}, x::Dict{Symbol, Any})",
      "    @ BSON ~/.julia/packages/BSON/73cTU/src/BSON.jl:19",
      " [18] _raise_recursive(d::Dict{Symbol, Any}, cache::IdDict{Any, Any}, init::Module)",
      "    @ BSON ~/.julia/packages/BSON/73cTU/src/read.jl:80",
      " [19] raise_recursive(d::Dict{Symbol, Any}, cache::IdDict{Any, Any}, init::Module)",
      "    @ BSON ~/.julia/packages/BSON/73cTU/src/read.jl:93",
      " [20] (::BSON.var\"#23#24\"{IdDict{Any, Any}, Module})(x::Dict{Symbol, Any})",
      "    @ BSON ~/.julia/packages/BSON/73cTU/src/read.jl:98",
      " [21] applychildren!(f::BSON.var\"#23#24\"{IdDict{Any, Any}, Module}, x::Vector{Any})",
      "    @ BSON ~/.julia/packages/BSON/73cTU/src/BSON.jl:26",
      " [22] raise_recursive",
      "    @ ~/.julia/packages/BSON/73cTU/src/read.jl:98 [inlined]",
      " [23] (::BSON.var\"#17#20\"{IdDict{Any, Any}, Module})(x::Vector{Any})",
      "    @ BSON ~/.julia/packages/BSON/73cTU/src/read.jl:80",
      " [24] applychildren!(f::BSON.var\"#17#20\"{IdDict{Any, Any}, Module}, x::Dict{Symbol, Any})",
      "    @ BSON ~/.julia/packages/BSON/73cTU/src/BSON.jl:19",
      " [25] _raise_recursive(d::Dict{Symbol, Any}, cache::IdDict{Any, Any}, init::Module)",
      "    @ BSON ~/.julia/packages/BSON/73cTU/src/read.jl:80",
      " [26] raise_recursive(d::Dict{Symbol, Any}, cache::IdDict{Any, Any}, init::Module)",
      "    @ BSON ~/.julia/packages/BSON/73cTU/src/read.jl:93",
      " [27] (::BSON.var\"#49#50\")(d::Dict{Symbol, Any}, cache::IdDict{Any, Any}, init::Module)",
      "    @ BSON ~/.julia/packages/BSON/73cTU/src/extensions.jl:167",
      " [28] raise_recursive(d::Dict{Symbol, Any}, cache::IdDict{Any, Any}, init::Module)",
      "    @ BSON ~/.julia/packages/BSON/73cTU/src/read.jl:92",
      " [29] (::BSON.var\"#19#22\"{IdDict{Any, Any}, Module})(x::Dict{Symbol, Any})",
      "    @ BSON ~/.julia/packages/BSON/73cTU/src/read.jl:86",
      " [30] applychildren!(f::BSON.var\"#19#22\"{IdDict{Any, Any}, Module}, x::Dict{Symbol, Any})",
      "    @ BSON ~/.julia/packages/BSON/73cTU/src/BSON.jl:19",
      " [31] _raise_recursive(d::Dict{Symbol, Any}, cache::IdDict{Any, Any}, init::Module)",
      "    @ BSON ~/.julia/packages/BSON/73cTU/src/read.jl:86",
      " [32] raise_recursive(d::Dict{Symbol, Any}, cache::IdDict{Any, Any}, init::Module)",
      "    @ BSON ~/.julia/packages/BSON/73cTU/src/read.jl:93",
      " [33] raise_recursive",
      "    @ ~/.julia/packages/BSON/73cTU/src/read.jl:103 [inlined]",
      " [34] load (repeats 2 times)",
      "    @ ~/.julia/packages/BSON/73cTU/src/read.jl:108 [inlined]",
      " [35] top-level scope",
      "    @ ~/.julia/packages/BSON/73cTU/src/BSON.jl:50",
      " [36] eval",
      "    @ ./boot.jl:368 [inlined]",
      " [37] include_string(mapexpr::typeof(REPL.softscope), mod::Module, code::String, filename::String)",
      "    @ Base ./loading.jl:1428"
     ]
    }
   ],
   "source": [
    "BSON.@load \"model.bson\" model"
   ]
  },
  {
   "cell_type": "code",
   "execution_count": 25,
   "id": "5638f1f1",
   "metadata": {},
   "outputs": [
    {
     "data": {
      "text/plain": [
       "Chain(\n",
       "  Conv((2, 2), 1 => 2, pad=(1, 0, 1, 0)),  \u001b[90m# 10 parameters\u001b[39m\n",
       "  MaxPool((2, 2)),\n",
       "  BatchNorm(2),                         \u001b[90m# 4 parameters\u001b[39m\u001b[90m, plus 4\u001b[39m\n",
       "  Dropout(0.5),\n",
       "  MLUtils.flatten,\n",
       "  Dense(900 => 60, relu),               \u001b[90m# 54_060 parameters\u001b[39m\n",
       "  NNlib.softmax,\n",
       ") \u001b[90m        # Total: 6 trainable arrays, \u001b[39m54_074 parameters,\n",
       "\u001b[90m          # plus 2 non-trainable, 4 parameters, summarysize \u001b[39m212.102 KiB."
      ]
     },
     "execution_count": 25,
     "metadata": {},
     "output_type": "execute_result"
    }
   ],
   "source": [
    "model = @autosize (60,30,1,1) Chain(\n",
    "            Conv((2,2), 1 => 2, pad = SamePad()),\n",
    "            MaxPool((2,2)),\n",
    "            BatchNorm(_),\n",
    "            Dropout(0.5),\n",
    "            Flux.flatten,\n",
    "            Dense(_,60,relu),\n",
    "            softmax,\n",
    "        )"
   ]
  },
  {
   "cell_type": "code",
   "execution_count": null,
   "id": "bc2f77f5",
   "metadata": {},
   "outputs": [],
   "source": []
  }
 ],
 "metadata": {
  "kernelspec": {
   "display_name": "Julia 1.8.2",
   "language": "julia",
   "name": "julia-1.8"
  },
  "language_info": {
   "file_extension": ".jl",
   "mimetype": "application/julia",
   "name": "julia",
   "version": "1.8.2"
  }
 },
 "nbformat": 4,
 "nbformat_minor": 5
}
