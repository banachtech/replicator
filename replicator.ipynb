{
 "cells": [
  {
   "cell_type": "markdown",
   "id": "19d412eb",
   "metadata": {},
   "source": [
    "# Index Replication\n",
    "\n",
    "We are given $N$ stocks and an index.\n",
    "\n",
    "Strategy: At rebalancing time $t$, we use return information over the period from $\\left[t-obs, t-1\\right]$ to compute portfolio allocations $w_t$. We hold this portfolio over the period $\\left[t,t+hold\\right]$.\n",
    "\n",
    "Let $r_s^p = \\sum_jw_t^jr_{s}^j, s = t+1, t+2, \\ldots, t+hold$ be portfolio returns and $r_s^I$ be the corresponding index returns. We explore several \"closeness\" measures:\n",
    "\n",
    "1. mean squared error (MSE)\n",
    "$$\\frac{1}{hold}\\sum_s \\vert r_s^p - r_s^I \\vert^2$$\n",
    "\n",
    "2. maximum squared error (MXSE)\n",
    "$$\\max_s \\vert r_s^p - r_s^I \\vert^2$$\n",
    "\n",
    "3. end of period wealth squared error (EOPSE)\n",
    "$$\\left(\\prod_s(1+r_{s}^p) - \\prod_s(1+r_{s}^I)\\right)^2$$\n",
    "\n",
    "4. maximum absolute deviation (MAD) \n",
    "$$\\max_s \\vert r_s^p - r_s^I \\vert$$"
   ]
  },
  {
   "cell_type": "code",
   "execution_count": 70,
   "id": "7d62704b",
   "metadata": {},
   "outputs": [],
   "source": [
    "using Flux, CSV, DataFrames, LinearAlgebra, Random, BSON, Statistics\n",
    "using TensorBoardLogger, Logging, ProgressMeter"
   ]
  },
  {
   "cell_type": "markdown",
   "id": "6f896e23",
   "metadata": {},
   "source": [
    "## Data"
   ]
  },
  {
   "cell_type": "code",
   "execution_count": 4,
   "id": "0c2cba9c",
   "metadata": {},
   "outputs": [
    {
     "data": {
      "text/plain": [
       "((3227,), (53, 3227))"
      ]
     },
     "execution_count": 4,
     "metadata": {},
     "output_type": "execute_result"
    }
   ],
   "source": [
    "df = CSV.read(\"hsi_rets.csv\",DataFrame)\n",
    "dropmissing!(df)\n",
    "tid = df.Date\n",
    "idx = df[:,2] |> Vector{Float32}\n",
    "stx = df[:,3:end] |> Matrix{Float32} |> transpose\n",
    "size(idx), size(stx)"
   ]
  },
  {
   "cell_type": "code",
   "execution_count": 26,
   "id": "d754e843",
   "metadata": {},
   "outputs": [
    {
     "data": {
      "text/plain": [
       "0.005"
      ]
     },
     "execution_count": 26,
     "metadata": {},
     "output_type": "execute_result"
    }
   ],
   "source": [
    "N, T = size(stx)\n",
    "obs, hold = 30, 30\n",
    "tcost = 0.005"
   ]
  },
  {
   "cell_type": "markdown",
   "id": "4d2bffab",
   "metadata": {},
   "source": [
    "### Features\n",
    "\n",
    "Features are $N \\times obs$ matrices. We treat them as single channel images, so we reshape them to $N \\times obs \\times 1 \\times B$, where B is the batch size."
   ]
  },
  {
   "cell_type": "code",
   "execution_count": 6,
   "id": "6d698608",
   "metadata": {},
   "outputs": [
    {
     "data": {
      "text/plain": [
       "70"
      ]
     },
     "execution_count": 6,
     "metadata": {},
     "output_type": "execute_result"
    }
   ],
   "source": [
    "rng = obs+1:hold:T-hold\n",
    "ntrain = 70"
   ]
  },
  {
   "cell_type": "code",
   "execution_count": 7,
   "id": "04a1eb37",
   "metadata": {},
   "outputs": [],
   "source": [
    "xs = [stx[:,t-obs:t+hold] for t ∈ rng]\n",
    "ys = [idx[t+1:t+hold] for t ∈ rng];"
   ]
  },
  {
   "cell_type": "markdown",
   "id": "de07be16",
   "metadata": {},
   "source": [
    "Shuffle and split into train and test sets."
   ]
  },
  {
   "cell_type": "code",
   "execution_count": 8,
   "id": "b8dda55b",
   "metadata": {},
   "outputs": [],
   "source": [
    "ids = collect(1:length(xs))\n",
    "shuffle!(ids)\n",
    "xtrain, xtest = xs[ids[1:ntrain]], xs[ids[ntrain+1:end]]\n",
    "ytrain, ytest = ys[ids[1:ntrain]], ys[ids[ntrain+1:end]];"
   ]
  },
  {
   "cell_type": "markdown",
   "id": "6c84d322",
   "metadata": {},
   "source": [
    "## Loss Functions"
   ]
  },
  {
   "cell_type": "code",
   "execution_count": 9,
   "id": "b102e3c2",
   "metadata": {},
   "outputs": [
    {
     "data": {
      "text/plain": [
       "eopse (generic function with 1 method)"
      ]
     },
     "execution_count": 9,
     "metadata": {},
     "output_type": "execute_result"
    }
   ],
   "source": [
    "mse(x) = sqrt.(sum(abs2, x)/length(x))\n",
    "mxse(x) = sqrt.(maximum(x.^2))\n",
    "mad(x) = maximum(abs.(x))\n",
    "eopse(x,y) = sqrt.((prod(1 .+ x) .- prod(1 .+ y))^2)"
   ]
  },
  {
   "cell_type": "code",
   "execution_count": 10,
   "id": "e7daf072",
   "metadata": {},
   "outputs": [
    {
     "data": {
      "text/plain": [
       "loss (generic function with 1 method)"
      ]
     },
     "execution_count": 10,
     "metadata": {},
     "output_type": "execute_result"
    }
   ],
   "source": [
    "function loss(m,x,y;func=mse)\n",
    "    f = reshape(x[:,1:obs],N,obs,1,1)\n",
    "    w = m(f) |> transpose\n",
    "    r = x[:,obs+2:end]\n",
    "    tmp = w*r\n",
    "    rp = tmp .- tcost * w * (r .- tmp)\n",
    "    if func != eopse\n",
    "        return func(vec(rp) .- y)\n",
    "    end\n",
    "    return func(vec(rp), y)\n",
    "end"
   ]
  },
  {
   "cell_type": "code",
   "execution_count": 11,
   "id": "d738f5b3",
   "metadata": {},
   "outputs": [
    {
     "data": {
      "text/plain": [
       "avgloss (generic function with 1 method)"
      ]
     },
     "execution_count": 11,
     "metadata": {},
     "output_type": "execute_result"
    }
   ],
   "source": [
    "avgloss(model,ds;func=mse) = mean([loss(model,x,y,func=func) \n",
    "    for (x,y) in ds])"
   ]
  },
  {
   "cell_type": "markdown",
   "id": "ddace0fc",
   "metadata": {},
   "source": [
    "## Logging"
   ]
  },
  {
   "cell_type": "code",
   "execution_count": 64,
   "id": "b4c91b8c",
   "metadata": {},
   "outputs": [
    {
     "data": {
      "text/plain": [
       "report (generic function with 1 method)"
      ]
     },
     "execution_count": 64,
     "metadata": {},
     "output_type": "execute_result"
    }
   ],
   "source": [
    "function report(tblogger, epoch)\n",
    "    train = avgloss(model,zip(xtrain,ytrain),func=lossfn)\n",
    "    test = avgloss(model,zip(xtest,ytest),func=lossfn)     \n",
    "    #println(\"Epoch: $epoch   Train: $(train)   Test: $(test)\")\n",
    "    set_step!(tblogger, epoch)\n",
    "    with_logger(tblogger) do\n",
    "        @info \"train\" loss=train\n",
    "        @info \"test\"  loss=test\n",
    "    end\n",
    "end"
   ]
  },
  {
   "cell_type": "markdown",
   "id": "c1294cdc",
   "metadata": {},
   "source": [
    "## Model"
   ]
  },
  {
   "cell_type": "code",
   "execution_count": 36,
   "id": "03b43ba1",
   "metadata": {},
   "outputs": [
    {
     "data": {
      "text/plain": [
       "convnet (generic function with 1 method)"
      ]
     },
     "execution_count": 36,
     "metadata": {},
     "output_type": "execute_result"
    }
   ],
   "source": [
    "function convnet(h, w, ch1, ch2, k)\n",
    "    out_conv_size = floor(Int, (h/k/k)) * floor(Int,(w/k/k)) * ch2\n",
    "    model = Chain(Conv((k,k),1=>ch1,pad=SamePad()), \n",
    "            Dropout(0.5), \n",
    "            MaxPool((k,k)), \n",
    "            Conv((k,k),ch1=>ch2,pad=SamePad()),\n",
    "            Dropout(0.5),\n",
    "            MaxPool((k,k)), \n",
    "            Flux.flatten, \n",
    "            Dense(out_conv_size, 64, relu), \n",
    "            Dense(64,h, relu), \n",
    "            softmax)\n",
    "    return model\n",
    "end"
   ]
  },
  {
   "cell_type": "code",
   "execution_count": 21,
   "id": "26b9ac88",
   "metadata": {},
   "outputs": [
    {
     "data": {
      "text/plain": [
       "conv_block (generic function with 1 method)"
      ]
     },
     "execution_count": 21,
     "metadata": {},
     "output_type": "execute_result"
    }
   ],
   "source": [
    "function conv_block(cin,cout,k; p=0.5, act=relu)\n",
    "    l = []\n",
    "    kernel = (k,k)\n",
    "    push!(l, Conv(kernel, cin => cout, act, pad=SamePad()))\n",
    "    push!(l, BatchNorm(cout))\n",
    "    push!(l, Dropout(p))\n",
    "    push!(l, MaxPool(kernel))\n",
    "    return l\n",
    "end"
   ]
  },
  {
   "cell_type": "code",
   "execution_count": 22,
   "id": "1f9d0a80",
   "metadata": {},
   "outputs": [
    {
     "data": {
      "text/plain": [
       "make_model (generic function with 1 method)"
      ]
     },
     "execution_count": 22,
     "metadata": {},
     "output_type": "execute_result"
    }
   ],
   "source": [
    "function make_model(w, h, c; k = 5, channels = [4,8], p = 0.5, act=relu)\n",
    "    layers = []\n",
    "    kernel = (k,k)\n",
    "    conv = conv_block(c,channels[1],k,p=p, act=act)\n",
    "    push!(layers, conv...)\n",
    "    for (i, o) in zip(channels, channels[2:end])\n",
    "        conv = conv_block(i,o,k,p=p, act=act)\n",
    "        push!(layers, conv...)\n",
    "    end\n",
    "    conv_size = Flux.outputsize(layers, (w, h, c); padbatch=true)\n",
    "    linear = Dense(prod(conv_size), h, relu)\n",
    "    return Chain(layers..., Flux.flatten, linear, softmax)\n",
    "end"
   ]
  },
  {
   "cell_type": "markdown",
   "id": "ec55de96",
   "metadata": {},
   "source": [
    "## Training"
   ]
  },
  {
   "cell_type": "code",
   "execution_count": 53,
   "id": "c0b0c11f",
   "metadata": {},
   "outputs": [
    {
     "data": {
      "text/plain": [
       "20"
      ]
     },
     "execution_count": 53,
     "metadata": {},
     "output_type": "execute_result"
    }
   ],
   "source": [
    "epochs = 1000\n",
    "η = 1e-3\n",
    "λ = 1e-5\n",
    "info_freq = 10\n",
    "check_freq = 20"
   ]
  },
  {
   "cell_type": "markdown",
   "id": "a315a8c9",
   "metadata": {},
   "source": [
    "Choose loss function."
   ]
  },
  {
   "cell_type": "code",
   "execution_count": 65,
   "id": "b7c81d3c",
   "metadata": {},
   "outputs": [
    {
     "data": {
      "text/plain": [
       "mad (generic function with 1 method)"
      ]
     },
     "execution_count": 65,
     "metadata": {},
     "output_type": "execute_result"
    }
   ],
   "source": [
    "lossfn = mad"
   ]
  },
  {
   "cell_type": "code",
   "execution_count": 71,
   "id": "abc565a5",
   "metadata": {},
   "outputs": [
    {
     "data": {
      "text/plain": [
       "TBLogger:\n",
       "\t- Log level     : Info\n",
       "\t- Current step  : 0\n",
       "\t- Output        : /home/balaji/projects/replicator/log/mad\n",
       "\t- open files    : 1\n"
      ]
     },
     "execution_count": 71,
     "metadata": {},
     "output_type": "execute_result"
    }
   ],
   "source": [
    "savepath = joinpath(\"./log\",String(Symbol(lossfn)))\n",
    "tblogger = TBLogger(savepath, tb_overwrite)"
   ]
  },
  {
   "cell_type": "code",
   "execution_count": 72,
   "id": "b0dc843d",
   "metadata": {},
   "outputs": [],
   "source": [
    "model = make_model(obs, N, 1, k=2, channels=[2,4])\n",
    "opt = Flux.setup(OptimiserChain(WeightDecay(λ), ADAM(η)), model);"
   ]
  },
  {
   "cell_type": "code",
   "execution_count": 73,
   "id": "ff252d25",
   "metadata": {},
   "outputs": [
    {
     "name": "stderr",
     "output_type": "stream",
     "text": [
      "\u001b[32mProgress: 100%|█████████████████████████████████████████| Time: 0:00:25\u001b[39m\n"
     ]
    }
   ],
   "source": [
    "@showprogress for e in 1:epochs\n",
    "    for (x,y) in zip(xtrain,ytrain)\n",
    "        gs = gradient(m->loss(m,x,y,func=lossfn),model)\n",
    "        Flux.update!(opt,model,gs[1])\n",
    "    end\n",
    "    (e % info_freq == 0) && report(tblogger, e)\n",
    "    if e % check_freq == 0\n",
    "        modelpath = joinpath(savepath,\"model_epoch_$e.bson\")\n",
    "        BSON.@save modelpath model\n",
    "    end\n",
    "end"
   ]
  },
  {
   "cell_type": "code",
   "execution_count": null,
   "id": "e57be425",
   "metadata": {},
   "outputs": [],
   "source": []
  }
 ],
 "metadata": {
  "kernelspec": {
   "display_name": "Julia 1.8.2",
   "language": "julia",
   "name": "julia-1.8"
  },
  "language_info": {
   "file_extension": ".jl",
   "mimetype": "application/julia",
   "name": "julia",
   "version": "1.8.2"
  }
 },
 "nbformat": 4,
 "nbformat_minor": 5
}
